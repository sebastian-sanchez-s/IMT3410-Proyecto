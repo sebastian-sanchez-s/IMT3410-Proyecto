{
 "cells": [
  {
   "cell_type": "markdown",
   "id": "aaf2aa3f-cfbe-478e-8a2f-d5fd580c2c1e",
   "metadata": {},
   "source": [
    "# Cómo leer modelos en formato [stl](https://en.wikipedia.org/wiki/STL_(file_format))"
   ]
  },
  {
   "cell_type": "code",
   "execution_count": 1,
   "id": "03e0fdf1-e7b9-4d76-a97d-2239bd41f7d6",
   "metadata": {
    "execution": {
     "iopub.execute_input": "2024-11-04T23:52:26.577742Z",
     "iopub.status.busy": "2024-11-04T23:52:26.577574Z",
     "iopub.status.idle": "2024-11-04T23:52:26.871734Z",
     "shell.execute_reply": "2024-11-04T23:52:26.871273Z",
     "shell.execute_reply.started": "2024-11-04T23:52:26.577724Z"
    }
   },
   "outputs": [],
   "source": [
    "from netgen.stl import STLGeometry\n",
    "from netgen.read_meshio import ImportMesh\n",
    "from netgen.webgui import Draw as DrawGeo"
   ]
  },
  {
   "cell_type": "markdown",
   "id": "1940a2fd-6d65-4061-8a30-ab1ed49338b7",
   "metadata": {},
   "source": [
    "Leerlos en bruto es simplemente llamar a ImportMesh"
   ]
  },
  {
   "cell_type": "code",
   "execution_count": 2,
   "id": "2fa09cd6-4b35-4211-84f9-a94e9d143941",
   "metadata": {
    "execution": {
     "iopub.execute_input": "2024-11-04T23:52:26.873287Z",
     "iopub.status.busy": "2024-11-04T23:52:26.873015Z",
     "iopub.status.idle": "2024-11-04T23:52:26.876037Z",
     "shell.execute_reply": "2024-11-04T23:52:26.875465Z",
     "shell.execute_reply.started": "2024-11-04T23:52:26.873269Z"
    }
   },
   "outputs": [],
   "source": [
    "# https://nasa3d.arc.nasa.gov/detail/europa-orbiter\n",
    "file = './../3D_models/Europa/europa-203a.stl'"
   ]
  },
  {
   "cell_type": "code",
   "execution_count": 3,
   "id": "d26e36e0-b3ba-4360-b134-333c9eeb722a",
   "metadata": {
    "execution": {
     "iopub.execute_input": "2024-11-04T23:52:26.876882Z",
     "iopub.status.busy": "2024-11-04T23:52:26.876686Z",
     "iopub.status.idle": "2024-11-04T23:52:27.847870Z",
     "shell.execute_reply": "2024-11-04T23:52:27.847086Z",
     "shell.execute_reply.started": "2024-11-04T23:52:26.876864Z"
    }
   },
   "outputs": [
    {
     "data": {
      "application/vnd.jupyter.widget-view+json": {
       "model_id": "353a14116e4944149a70623130f00ec7",
       "version_major": 2,
       "version_minor": 0
      },
      "text/plain": [
       "WebGuiWidget(layout=Layout(height='50vh', width='100%'), value={'gui_settings': {}, 'mesh_dim': 3, 'mesh_cente…"
      ]
     },
     "metadata": {},
     "output_type": "display_data"
    },
    {
     "data": {
      "text/plain": [
       "BaseWebGuiScene"
      ]
     },
     "execution_count": 3,
     "metadata": {},
     "output_type": "execute_result"
    }
   ],
   "source": [
    "m1 = ImportMesh(file)\n",
    "\n",
    "DrawGeo(m1)"
   ]
  },
  {
   "cell_type": "markdown",
   "id": "748c5ef3-1acf-4a81-a359-2627b94dc8e1",
   "metadata": {
    "execution": {
     "iopub.execute_input": "2024-11-04T21:17:03.822768Z",
     "iopub.status.busy": "2024-11-04T21:17:03.822316Z",
     "iopub.status.idle": "2024-11-04T21:17:04.195343Z",
     "shell.execute_reply": "2024-11-04T21:17:04.194204Z",
     "shell.execute_reply.started": "2024-11-04T21:17:03.822742Z"
    }
   },
   "source": [
    "Esto deja mallas de mala calidad (pero que en principio son suficientes para [WoS](https://en.wikipedia.org/wiki/Walk-on-spheres_method)). Para que NGSolve funcione bien hay que re-mallarlas. Para eso primero hay que cargarlas con STLGeometry y aplicar el método GenerateMesh:"
   ]
  },
  {
   "cell_type": "code",
   "execution_count": 4,
   "id": "8032d041-4120-4403-a594-e926dee07125",
   "metadata": {
    "execution": {
     "iopub.execute_input": "2024-11-04T23:52:27.849103Z",
     "iopub.status.busy": "2024-11-04T23:52:27.848662Z",
     "iopub.status.idle": "2024-11-04T23:53:32.205807Z",
     "shell.execute_reply": "2024-11-04T23:53:32.205257Z",
     "shell.execute_reply.started": "2024-11-04T23:52:27.849084Z"
    }
   },
   "outputs": [
    {
     "name": "stdout",
     "output_type": "stream",
     "text": [
      " WARNING: Found a spiral like structure: chart=1051, trig=17686, p1=10051, p2=9983\n",
      " WARNING: Found a spiral like structure: chart=1144, trig=19651, p1=11159, p2=11213\n",
      " WARNING: Found a spiral like structure: chart=1934, trig=41541, p1=21269, p2=21255\n",
      " WARNING: Found a spiral like structure: chart=1935, trig=41543, p1=21269, p2=21265\n",
      " WARNING: Found a spiral like structure: chart=1937, trig=41579, p1=21289, p2=21287\n",
      " WARNING: Found a spiral like structure: chart=2016, trig=42020, p1=21566, p2=21557\n",
      " WARNING: Found a spiral like structure: chart=2017, trig=42019, p1=21558, p2=21568\n",
      " WARNING: Found a spiral like structure: chart=2018, trig=42022, p1=21569, p2=21568\n",
      " WARNING: Found a spiral like structure: chart=2106, trig=42963, p1=21988, p2=21974\n",
      " WARNING: Found a spiral like structure: chart=2283, trig=44406, p1=22724, p2=22698\n",
      " WARNING: Found a spiral like structure: chart=2284, trig=44408, p1=22724, p2=22720\n",
      " WARNING: Found a spiral like structure: chart=2287, trig=44459, p1=22754, p2=22752\n",
      " WARNING: Found a spiral like structure: chart=2292, trig=44464, p1=22755, p2=22723\n",
      " WARNING: Found a spiral like structure: chart=2378, trig=44945, p1=23061, p2=23048\n",
      " WARNING: Found a spiral like structure: chart=2379, trig=44944, p1=23049, p2=23063\n",
      " WARNING: Found a spiral like structure: chart=2380, trig=44947, p1=23064, p2=23063\n",
      " WARNING: Found a spiral like structure: chart=2465, trig=45941, p1=23524, p2=23497\n"
     ]
    },
    {
     "data": {
      "application/vnd.jupyter.widget-view+json": {
       "model_id": "1ae6eeba6da44abea0cf3a4a0a2d3a8c",
       "version_major": 2,
       "version_minor": 0
      },
      "text/plain": [
       "WebGuiWidget(layout=Layout(height='50vh', width='100%'), value={'gui_settings': {}, 'mesh_dim': 3, 'mesh_cente…"
      ]
     },
     "metadata": {},
     "output_type": "display_data"
    },
    {
     "data": {
      "text/plain": [
       "BaseWebGuiScene"
      ]
     },
     "execution_count": 4,
     "metadata": {},
     "output_type": "execute_result"
    }
   ],
   "source": [
    "m2 = STLGeometry(file).GenerateMesh()\n",
    "\n",
    "m2.GenerateVolumeMesh()\n",
    "\n",
    "DrawGeo(m2)"
   ]
  },
  {
   "cell_type": "markdown",
   "id": "9bfbf4f7-5503-4d5a-8df5-eccf4af1519b",
   "metadata": {
    "execution": {
     "iopub.execute_input": "2024-11-04T21:23:22.204975Z",
     "iopub.status.busy": "2024-11-04T21:23:22.204530Z",
     "iopub.status.idle": "2024-11-04T21:23:22.766196Z",
     "shell.execute_reply": "2024-11-04T21:23:22.764538Z",
     "shell.execute_reply.started": "2024-11-04T21:23:22.204938Z"
    }
   },
   "source": [
    "Quizá sea conveniente guardar la malla buena, eso se hace así:"
   ]
  },
  {
   "cell_type": "code",
   "execution_count": 5,
   "id": "6b3108c6-44b6-4654-ad32-13536f73d210",
   "metadata": {
    "execution": {
     "iopub.execute_input": "2024-11-04T23:53:32.206586Z",
     "iopub.status.busy": "2024-11-04T23:53:32.206411Z",
     "iopub.status.idle": "2024-11-04T23:53:32.642009Z",
     "shell.execute_reply": "2024-11-04T23:53:32.641318Z",
     "shell.execute_reply.started": "2024-11-04T23:53:32.206568Z"
    }
   },
   "outputs": [
    {
     "name": "stdout",
     "output_type": "stream",
     "text": [
      "\n",
      "Write STL Surface Mesh\n"
     ]
    }
   ],
   "source": [
    "m2.Export(file[:-4] + '-meshed.stl', 'STL Format')"
   ]
  },
  {
   "cell_type": "markdown",
   "id": "cfa14982-8d40-4526-a6b0-6b05d1f0e0fb",
   "metadata": {},
   "source": [
    "De esta forma, la malla buena se puede cargar así:"
   ]
  },
  {
   "cell_type": "code",
   "execution_count": 6,
   "id": "51a3753d-0ca1-47f9-80e0-8dfe0b9b1a4b",
   "metadata": {
    "execution": {
     "iopub.execute_input": "2024-11-04T23:53:32.642968Z",
     "iopub.status.busy": "2024-11-04T23:53:32.642763Z",
     "iopub.status.idle": "2024-11-04T23:53:34.092215Z",
     "shell.execute_reply": "2024-11-04T23:53:34.091090Z",
     "shell.execute_reply.started": "2024-11-04T23:53:32.642949Z"
    }
   },
   "outputs": [
    {
     "data": {
      "application/vnd.jupyter.widget-view+json": {
       "model_id": "8f53f352a4ed409d99727676d1ffc299",
       "version_major": 2,
       "version_minor": 0
      },
      "text/plain": [
       "WebGuiWidget(layout=Layout(height='50vh', width='100%'), value={'gui_settings': {}, 'mesh_dim': 3, 'mesh_cente…"
      ]
     },
     "metadata": {},
     "output_type": "display_data"
    },
    {
     "data": {
      "text/plain": [
       "BaseWebGuiScene"
      ]
     },
     "execution_count": 6,
     "metadata": {},
     "output_type": "execute_result"
    }
   ],
   "source": [
    "m3 = ImportMesh(file[:-4] + '-meshed.stl')\n",
    "\n",
    "DrawGeo(m3)"
   ]
  }
 ],
 "metadata": {
  "kernelspec": {
   "display_name": "Python 3 (ipykernel)",
   "language": "python",
   "name": "python3"
  },
  "language_info": {
   "codemirror_mode": {
    "name": "ipython",
    "version": 3
   },
   "file_extension": ".py",
   "mimetype": "text/x-python",
   "name": "python",
   "nbconvert_exporter": "python",
   "pygments_lexer": "ipython3",
   "version": "3.12.7"
  }
 },
 "nbformat": 4,
 "nbformat_minor": 5
}
