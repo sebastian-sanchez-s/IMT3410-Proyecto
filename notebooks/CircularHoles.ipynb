{
 "cells": [
  {
   "cell_type": "code",
   "execution_count": 1,
   "id": "57c397d9-2aad-4096-aa8b-6c49bdb7faad",
   "metadata": {},
   "outputs": [
    {
     "data": {
      "application/vnd.jupyter.widget-view+json": {
       "model_id": "617a30241a0245af954417904894d40a",
       "version_major": 2,
       "version_minor": 0
      },
      "text/plain": [
       "WebGuiWidget(layout=Layout(height='50vh', width='100%'), value={'gui_settings': {}, 'mesh_dim': 2, 'mesh_cente…"
      ]
     },
     "metadata": {},
     "output_type": "display_data"
    },
    {
     "data": {
      "text/plain": [
       "BaseWebGuiScene"
      ]
     },
     "execution_count": 1,
     "metadata": {},
     "output_type": "execute_result"
    }
   ],
   "source": [
    "from netgen.geom2d import CSG2d, Circle, Rectangle\n",
    "from netgen.webgui import Draw as DrawGeo\n",
    "%gui tk\n",
    "\n",
    "from numpy.random import normal\n",
    "from random import uniform\n",
    "\n",
    "rect = Rectangle( pmin=(0,0), pmax=(1,1), mat=\"mat1\", bc=\"bc_rect\" )\n",
    "\n",
    "n_circles = 15\n",
    "for i in range(n_circles):\n",
    "    center = (normal(0.5, 0.4), normal(0.5, 0.4))\n",
    "    radius = uniform(0.01, 0.025)\n",
    "    circle = Circle(center=center, radius=radius, mat=\"mat2\", bc=f\"bc_hole_{i}\")\n",
    "    rect = rect - circle\n",
    "\n",
    "geo = CSG2d()\n",
    "geo.Add(rect)\n",
    "\n",
    "m = geo.GenerateMesh(maxh=0.1)\n",
    "DrawGeo(m)"
   ]
  },
  {
   "cell_type": "code",
   "execution_count": 2,
   "id": "62b7e567-5b75-4dcb-804a-a62b08a3976d",
   "metadata": {},
   "outputs": [
    {
     "data": {
      "application/vnd.jupyter.widget-view+json": {
       "model_id": "c4c5fbda9e774d46af32327fedff88b6",
       "version_major": 2,
       "version_minor": 0
      },
      "text/plain": [
       "WebGuiWidget(layout=Layout(height='50vh', width='100%'), value={'gui_settings': {}, 'ngsolve_version': '6.2.24…"
      ]
     },
     "metadata": {},
     "output_type": "display_data"
    }
   ],
   "source": [
    "from ngsolve import *\n",
    "from ngsolve.webgui import Draw\n",
    "%gui tk\n",
    "\n",
    "mesh = Mesh(m)\n",
    "Draw(mesh);"
   ]
  },
  {
   "cell_type": "code",
   "execution_count": 3,
   "id": "2ccb4e6f-9641-4a92-8006-acfdbb867c19",
   "metadata": {},
   "outputs": [
    {
     "data": {
      "application/vnd.jupyter.widget-view+json": {
       "model_id": "85f6c0d8e7fb42449e21984f775a3143",
       "version_major": 2,
       "version_minor": 0
      },
      "text/plain": [
       "WebGuiWidget(layout=Layout(height='50vh', width='100%'), value={'gui_settings': {}, 'ngsolve_version': '6.2.24…"
      ]
     },
     "metadata": {},
     "output_type": "display_data"
    },
    {
     "data": {
      "application/vnd.jupyter.widget-view+json": {
       "model_id": "665b7f5397b6403c994c3f8a95d3cd5e",
       "version_major": 2,
       "version_minor": 0
      },
      "text/plain": [
       "WebGuiWidget(layout=Layout(height='50vh', width='100%'), value={'gui_settings': {}, 'ngsolve_version': '6.2.24…"
      ]
     },
     "metadata": {},
     "output_type": "display_data"
    }
   ],
   "source": [
    "fes = H1(mesh, order=1, dirichlet='|'.join([f'bc_hole_{i}' for i in range(n_circles)]))\n",
    "\n",
    "u, v = fes.TnT()\n",
    "\n",
    "f = LinearForm(fes)\n",
    "f += sin(2*pi*x) * v * dx\n",
    "\n",
    "a = BilinearForm(fes)\n",
    "a += grad(u)*grad(v)*dx\n",
    "\n",
    "a.Assemble()\n",
    "f.Assemble()\n",
    "\n",
    "gfu = GridFunction(fes)\n",
    "gfu.vec.data = a.mat.Inverse(fes.FreeDofs()) * f.vec\n",
    "\n",
    "Draw(gfu);\n",
    "Draw(-grad(gfu), mesh, \"Flux\");"
   ]
  },
  {
   "cell_type": "code",
   "execution_count": null,
   "id": "36237f15-1ab1-4b78-a759-4f33c31f7d4e",
   "metadata": {},
   "outputs": [],
   "source": []
  }
 ],
 "metadata": {
  "kernelspec": {
   "display_name": "venv",
   "language": "python",
   "name": "venv"
  },
  "language_info": {
   "codemirror_mode": {
    "name": "ipython",
    "version": 3
   },
   "file_extension": ".py",
   "mimetype": "text/x-python",
   "name": "python",
   "nbconvert_exporter": "python",
   "pygments_lexer": "ipython3",
   "version": "3.12.7"
  }
 },
 "nbformat": 4,
 "nbformat_minor": 5
}
